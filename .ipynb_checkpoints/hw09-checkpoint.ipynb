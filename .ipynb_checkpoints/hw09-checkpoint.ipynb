{
 "cells": [
  {
   "cell_type": "markdown",
   "metadata": {},
   "source": [
    "# Metadata\n",
    "\n",
    "```yaml\n",
    "Course:  DS 5100\n",
    "Module:  09 Python Packages\n",
    "Topic:   HW Package Booklover\n",
    "Author:  R.C. Alvarado (adapted)\n",
    "Date:    10 October 2022 (revised)\n",
    "```"
   ]
  },
  {
   "cell_type": "markdown",
   "metadata": {},
   "source": [
    "# Student Info\n",
    "\n",
    "* Name:  Mir Muhammad Abdur Rahman\n",
    "* Net UD: MMA4GP\n",
    "* URL of this file in GitHub: https://github.com/Zyqoz/booklover_package/blob/main/hw09.ipynb"
   ]
  },
  {
   "cell_type": "markdown",
   "metadata": {},
   "source": [
    "# Instructions\n",
    "\n",
    "In your **private course repo on Rivanna**, use this Jupyter notebook and the data file described to write code that performs the tasks below. \n",
    "\n",
    "Save your notebook in the `M09` directory.\n",
    "\n",
    "Remember to add and commit these files to your repo. \n",
    "\n",
    "Then push your commits to your repo on GitHib.\n",
    "\n",
    "Be sure to fill out the **Student Info** block above.\n",
    "\n",
    "To submit your homework, save your results as a PDF and upload it to GradeScope. More information about how to create the PDF for this assignment are included at the end of this document.\n",
    "\n",
    "**TOTAL POINTS: 8**"
   ]
  },
  {
   "cell_type": "markdown",
   "metadata": {
    "tags": []
   },
   "source": [
    "# Overview\n",
    "\n",
    "Follow the following recipe we used in class to package the code you wrote for `HW08` -- `booklover.py` and `booklover_test.py`.\n",
    "\n",
    "* Create a new git repo for your package.\n",
    "* Create and edit the required files and directories for your package and move the booklover modules there.\n",
    "* Stage, commit, and push all the files you've created.\n",
    "* Install your package with pip.\n",
    "* Outside of your package dir, write a script to test your method.\n",
    "\n",
    "Put this notebook in your repo. This will allow you to execute bash commands and capture the outpunt directly in the notebook.\n",
    "\n",
    "**TOTAL: 8 POINTS**"
   ]
  },
  {
   "cell_type": "markdown",
   "metadata": {
    "tags": []
   },
   "source": [
    "# Tasks"
   ]
  },
  {
   "cell_type": "markdown",
   "metadata": {
    "tags": []
   },
   "source": [
    "## Task 1\n",
    "\n",
    "(5 points)\n",
    "\n",
    "Show the directory structure of your repo by running this command from the root of your repo:"
   ]
  },
  {
   "cell_type": "code",
   "execution_count": 58,
   "metadata": {},
   "outputs": [
    {
     "name": "stdout",
     "output_type": "stream",
     "text": [
      ".:\n",
      "total 36\n",
      "drwxr-sr-x 4 mma4gp users 2048 Oct 27 15:28 Booklover\n",
      "drwxr-sr-x 2 mma4gp users 2048 Oct 27 14:46 booklover.egg-info\n",
      "drwxr-sr-x 3 mma4gp users  512 Oct 27 14:46 build\n",
      "-rw-r--r-- 1 mma4gp users 6918 Oct 27 15:29 hw09.ipynb\n",
      "-rw-r--r-- 1 mma4gp users    0 Oct 27 14:27 __init__.py\n",
      "drwxr-sr-x 2 mma4gp users  512 Oct 27 14:55 __pycache__\n",
      "-rw-r--r-- 1 mma4gp users  300 Oct 27 14:46 setup.py\n",
      "\n",
      "./Booklover:\n",
      "total 20\n",
      "-rw-r--r-- 1 mma4gp users 1734 Oct 27 15:28 booklover.py\n",
      "-rw-r--r-- 1 mma4gp users 2795 Oct 27 14:27 booklover_test.py\n",
      "drwxr-sr-x 2 mma4gp users  512 Oct 27 15:28 __pycache__\n",
      "\n",
      "./Booklover/__pycache__:\n",
      "total 8\n",
      "-rw-r--r-- 1 mma4gp users 1795 Oct 27 15:28 booklover.cpython-38.pyc\n",
      "\n",
      "./booklover.egg-info:\n",
      "total 16\n",
      "-rw-r--r-- 1 mma4gp users   1 Oct 27 14:46 dependency_links.txt\n",
      "-rw-r--r-- 1 mma4gp users 259 Oct 27 14:46 PKG-INFO\n",
      "-rw-r--r-- 1 mma4gp users 140 Oct 27 14:46 SOURCES.txt\n",
      "-rw-r--r-- 1 mma4gp users   1 Oct 27 14:46 top_level.txt\n",
      "\n",
      "./build:\n",
      "total 4\n",
      "drwxr-sr-x 2 mma4gp users 0 Oct 27 14:46 bdist.linux-x86_64\n",
      "\n",
      "./build/bdist.linux-x86_64:\n",
      "total 0\n",
      "\n",
      "./__pycache__:\n",
      "total 4\n",
      "-rw-r--r-- 1 mma4gp users 167 Oct 27 14:55 __init__.cpython-38.pyc\n"
     ]
    }
   ],
   "source": [
    "!ls -lR"
   ]
  },
  {
   "cell_type": "markdown",
   "metadata": {},
   "source": [
    "## Task 2\n",
    "\n",
    "(1 point)\n",
    "\n",
    "Put the URL of your GitHub repo here. Just paste it into a Markdown cell."
   ]
  },
  {
   "cell_type": "markdown",
   "metadata": {},
   "source": [
    "URL: https://github.com/Zyqoz/booklover_package"
   ]
  },
  {
   "cell_type": "markdown",
   "metadata": {
    "lines_to_next_cell": 0
   },
   "source": [
    "## Task 3\n",
    "\n",
    "(1 point)\n",
    "\n",
    "Show the results of installing your package.\n",
    "\n",
    "```bash\n",
    "!pip install -e .\n",
    "```"
   ]
  },
  {
   "cell_type": "code",
   "execution_count": 18,
   "metadata": {},
   "outputs": [
    {
     "name": "stdout",
     "output_type": "stream",
     "text": [
      "/bin/bash: line 0: cd: booklover_package/: No such file or directory\n",
      "Defaulting to user installation because normal site-packages is not writeable\n",
      "Processing /sfs/qumulo/qhome/mma4gp/Documents/MSDS/DS5100/booklover_package\n",
      "  Preparing metadata (setup.py) ... \u001b[?25ldone\n",
      "\u001b[?25hBuilding wheels for collected packages: booklover\n",
      "  Building wheel for booklover (setup.py) ... \u001b[?25ldone\n",
      "\u001b[?25h  Created wheel for booklover: filename=booklover-0.1-py3-none-any.whl size=1065 sha256=f59f20b155e9c8e868db432d6be3aadc7b49f50f918e342c3b6bf2ce83c081e3\n",
      "  Stored in directory: /tmp/pip-ephem-wheel-cache-wp675kgv/wheels/1c/d5/28/109f0e90f41e5ce424d4638bd575608ae892b41b3cd2402931\n",
      "Successfully built booklover\n",
      "Installing collected packages: booklover\n",
      "Successfully installed booklover-0.1\n"
     ]
    }
   ],
   "source": [
    "!cd booklover_package/\n",
    "!pip install ."
   ]
  },
  {
   "cell_type": "markdown",
   "metadata": {},
   "source": [
    "## Task 4\n",
    "\n",
    "(1 point)\n",
    "\n",
    "Create a file outside your repo to test your package by running it.\n",
    "\n",
    "To do this, import the package into your file and create a BookLover object.\n",
    "\n",
    "Then add a book and then print number books read.\n",
    "\n",
    "Then run the file. \n",
    "\n",
    "Show the output of running the file below, using a command like the following:\n",
    "\n",
    "```bash\n",
    "!python ../book_lover_demo.py\n",
    "```"
   ]
  },
  {
   "cell_type": "markdown",
   "metadata": {},
   "source": [
    "### RunBookLoverOutOfDirectory class:\n",
    "\n",
    "``` python\n",
    "sys.path.append('/sfs/qumulo/qhome/mma4gp/Documents/MSDS/DS5100/booklover_package/Booklover')\n",
    "from booklover import BookLover\n",
    "\n",
    "mir = BookLover('Mir Muhammad Abdur Rahman', 'Abdurrahman@dukanor.com', 'Islamic Conquests')\n",
    "print(mir.name + ' ' + mir.email + ' ' + mir.fav_genre)\n",
    "mir.add_book('Quran', 10)\n",
    "print(mir.num_books_read())\n",
    "```"
   ]
  },
  {
   "cell_type": "code",
   "execution_count": 57,
   "metadata": {},
   "outputs": [
    {
     "name": "stdout",
     "output_type": "stream",
     "text": [
      "Mir Muhammad Abdur Rahman Abdurrahman@dukanor.com Islamic Conquests\n",
      "1\n"
     ]
    }
   ],
   "source": [
    "!python /sfs/qumulo/qhome/mma4gp/Documents/MSDS/DS5100/DS5100-2022-08-mma4gp/lessons/M09/RunBookLoverOutOfDirectory.py"
   ]
  }
 ],
 "metadata": {
  "jupytext": {
   "cell_metadata_filter": "-all",
   "main_language": "bash",
   "notebook_metadata_filter": "-all"
  },
  "kernelspec": {
   "display_name": "Python 3",
   "language": "python",
   "name": "python3"
  },
  "language_info": {
   "codemirror_mode": {
    "name": "ipython",
    "version": 3
   },
   "file_extension": ".py",
   "mimetype": "text/x-python",
   "name": "python",
   "nbconvert_exporter": "python",
   "pygments_lexer": "ipython3",
   "version": "3.8.8"
  },
  "vscode": {
   "interpreter": {
    "hash": "c3b963de08c47c3b6758389c5e0978ad73698a111eb508d4e16b558edb8f4cbf"
   }
  },
  "widgets": {
   "application/vnd.jupyter.widget-state+json": {
    "state": {},
    "version_major": 2,
    "version_minor": 0
   }
  }
 },
 "nbformat": 4,
 "nbformat_minor": 5
}
